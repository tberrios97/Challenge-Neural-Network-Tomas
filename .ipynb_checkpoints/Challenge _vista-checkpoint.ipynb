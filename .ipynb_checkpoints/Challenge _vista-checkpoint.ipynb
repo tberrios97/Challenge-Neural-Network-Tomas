{
 "cells": [
  {
   "cell_type": "code",
   "execution_count": 1,
   "metadata": {
    "scrolled": true
   },
   "outputs": [
    {
     "name": "stdout",
     "output_type": "stream",
     "text": [
      "Collecting flask\n",
      "  Downloading Flask-2.3.2-py3-none-any.whl (96 kB)\n",
      "\u001b[2K     \u001b[90m━━━━━━━━━━━━━━━━━━━━━━━━━━━━━━━━━━━━━━━\u001b[0m \u001b[32m96.9/96.9 kB\u001b[0m \u001b[31m488.1 kB/s\u001b[0m eta \u001b[36m0:00:00\u001b[0ma \u001b[36m0:00:01\u001b[0m\n",
      "\u001b[?25hCollecting flask-restful\n",
      "  Obtaining dependency information for flask-restful from https://files.pythonhosted.org/packages/d7/7b/f0b45f0df7d2978e5ae51804bb5939b7897b2ace24306009da0cc34d8d1f/Flask_RESTful-0.3.10-py2.py3-none-any.whl.metadata\n",
      "  Downloading Flask_RESTful-0.3.10-py2.py3-none-any.whl.metadata (1.0 kB)\n",
      "Collecting Werkzeug>=2.3.3 (from flask)\n",
      "  Obtaining dependency information for Werkzeug>=2.3.3 from https://files.pythonhosted.org/packages/ba/d6/8040faecaba2feb84e1647af174b3243c9b90c163c7ea407820839931efe/Werkzeug-2.3.6-py3-none-any.whl.metadata\n",
      "  Downloading Werkzeug-2.3.6-py3-none-any.whl.metadata (4.1 kB)\n",
      "Requirement already satisfied: Jinja2>=3.1.2 in /opt/conda/lib/python3.11/site-packages (from flask) (3.1.2)\n",
      "Collecting itsdangerous>=2.1.2 (from flask)\n",
      "  Downloading itsdangerous-2.1.2-py3-none-any.whl (15 kB)\n",
      "Collecting click>=8.1.3 (from flask)\n",
      "  Obtaining dependency information for click>=8.1.3 from https://files.pythonhosted.org/packages/1a/70/e63223f8116931d365993d4a6b7ef653a4d920b41d03de7c59499962821f/click-8.1.6-py3-none-any.whl.metadata\n",
      "  Downloading click-8.1.6-py3-none-any.whl.metadata (3.0 kB)\n",
      "Requirement already satisfied: blinker>=1.6.2 in /opt/conda/lib/python3.11/site-packages (from flask) (1.6.2)\n",
      "Collecting aniso8601>=0.82 (from flask-restful)\n",
      "  Downloading aniso8601-9.0.1-py2.py3-none-any.whl (52 kB)\n",
      "\u001b[2K     \u001b[90m━━━━━━━━━━━━━━━━━━━━━━━━━━━━━━━━━━━━━━━━\u001b[0m \u001b[32m52.8/52.8 kB\u001b[0m \u001b[31m9.0 MB/s\u001b[0m eta \u001b[36m0:00:00\u001b[0m\n",
      "\u001b[?25hRequirement already satisfied: six>=1.3.0 in /opt/conda/lib/python3.11/site-packages (from flask-restful) (1.16.0)\n",
      "Requirement already satisfied: pytz in /opt/conda/lib/python3.11/site-packages (from flask-restful) (2023.3)\n",
      "Requirement already satisfied: MarkupSafe>=2.0 in /opt/conda/lib/python3.11/site-packages (from Jinja2>=3.1.2->flask) (2.1.3)\n",
      "Downloading Flask_RESTful-0.3.10-py2.py3-none-any.whl (26 kB)\n",
      "Downloading click-8.1.6-py3-none-any.whl (97 kB)\n",
      "\u001b[2K   \u001b[90m━━━━━━━━━━━━━━━━━━━━━━━━━━━━━━━━━━━━━━━━\u001b[0m \u001b[32m97.9/97.9 kB\u001b[0m \u001b[31m9.6 MB/s\u001b[0m eta \u001b[36m0:00:00\u001b[0m\n",
      "\u001b[?25hDownloading Werkzeug-2.3.6-py3-none-any.whl (242 kB)\n",
      "\u001b[2K   \u001b[90m━━━━━━━━━━━━━━━━━━━━━━━━━━━━━━━━━━━━━━━━\u001b[0m \u001b[32m242.5/242.5 kB\u001b[0m \u001b[31m15.6 MB/s\u001b[0m eta \u001b[36m0:00:00\u001b[0m\n",
      "\u001b[?25hInstalling collected packages: aniso8601, Werkzeug, itsdangerous, click, flask, flask-restful\n",
      "Successfully installed Werkzeug-2.3.6 aniso8601-9.0.1 click-8.1.6 flask-2.3.2 flask-restful-0.3.10 itsdangerous-2.1.2\n"
     ]
    }
   ],
   "source": [
    "!pip install flask flask-restful"
   ]
  },
  {
   "cell_type": "code",
   "execution_count": 2,
   "metadata": {},
   "outputs": [],
   "source": [
    "from IPython.display import clear_output"
   ]
  },
  {
   "cell_type": "code",
   "execution_count": 28,
   "metadata": {},
   "outputs": [
    {
     "name": "stderr",
     "output_type": "stream",
     "text": [
      "127.0.0.1 - - [31/Jul/2023 12:05:28] \"POST / HTTP/1.1\" 200 -\n"
     ]
    },
    {
     "name": "stdout",
     "output_type": "stream",
     "text": [
      "    region                                 origin_coord  \\\n",
      "0  Hamburg  POINT (10.05260098579818 53.53497739746809)   \n",
      "1    Turin  POINT (7.702418079996892 45.05754972796922)   \n",
      "2    Turin  POINT (7.560785081962462 45.01901608530191)   \n",
      "3  Hamburg  POINT (9.910278201788232 53.58386264717827)   \n",
      "4  Hamburg  POINT (10.07299025213017 53.62044974829032)   \n",
      "5    Turin  POINT (7.614078119815749 45.13433106465422)   \n",
      "6    Turin  POINT (7.541509189114433 45.09160503827746)   \n",
      "7   Prague  POINT (14.32427345662177 50.00002074358429)   \n",
      "8    Turin   POINT (7.672837913286881 44.9957109242058)   \n",
      "9   Prague   POINT (14.4973794438195 50.00136875782316)   \n",
      "\n",
      "                             destination_coord             datetime  \\\n",
      "0  POINT (10.05889649564977 53.49486429314853)  2018-05-04 00:46:12   \n",
      "1  POINT (7.623229346744799 44.99969774086024)  2018-05-14 02:07:30   \n",
      "2  POINT (7.583568695710608 45.10526898076209)  2018-05-06 00:00:44   \n",
      "3   POINT (10.02557919725378 53.4120717767391)  2018-05-13 13:09:19   \n",
      "4  POINT (9.789197601249002 53.46315765148751)  2018-05-15 09:13:36   \n",
      "5  POINT (7.527497142312585 45.03335051325654)  2018-05-23 12:45:54   \n",
      "6   POINT (7.74528653441973 45.02628598341506)  2018-05-06 09:49:16   \n",
      "7  POINT (14.47767895969969 50.09339790740321)  2018-05-13 08:52:25   \n",
      "8  POINT (7.720368637535126 45.06782385393849)  2018-05-21 02:54:04   \n",
      "9  POINT (14.43109483523328 50.04052930943246)  2018-05-28 09:03:40   \n",
      "\n",
      "            datasource  cluster  \n",
      "0         cheap_mobile        2  \n",
      "1         cheap_mobile        1  \n",
      "2         cheap_mobile        1  \n",
      "3            funny_car        2  \n",
      "4  bad_diesel_vehicles        2  \n",
      "5        pt_search_app        1  \n",
      "6  bad_diesel_vehicles        1  \n",
      "7         cheap_mobile        0  \n",
      "8             baba_car        1  \n",
      "9            funny_car        0  \n"
     ]
    }
   ],
   "source": [
    "import pandas as pd\n",
    "\n",
    "from flask import Flask\n",
    "from flask import request\n",
    "from flask_restful import Resource, Api, reqparse, abort, marshal, fields\n",
    "\n",
    "app = Flask(\"deploy_app\")\n",
    "api = Api(app)\n",
    "\n",
    "#API de captura de videos desde el encoder\n",
    "class deployRecords(Resource):\n",
    "\n",
    "    #inicializacion de la clase\n",
    "    def __init__(self):\n",
    "        self.queue_records = []\n",
    "        self.n_display_data = 10\n",
    "    \n",
    "    def get(self):\n",
    "        return None\n",
    "\n",
    "    def post(self):\n",
    "        #obtener request encriptada\n",
    "        clear_output(wait=True)\n",
    "        json_data = request.json\n",
    "\n",
    "        self.queue_records += json_data\n",
    "\n",
    "        self.queue_records = self.queue_records[-self.n_display_data:]\n",
    "        \n",
    "        df = pd.DataFrame.from_dict(self.queue_records)\n",
    "        \n",
    "        print(df)\n",
    "        \n",
    "        return 200\n",
    "\n",
    "#definir ruta de uso de la API\n",
    "api.add_resource(deployRecords, \"/\")\n",
    "\n",
    "if __name__ == '__main__':\n",
    "    #seteo de la API en localhost y puerto\n",
    "    app.run(host='localhost', port=5400)"
   ]
  },
  {
   "cell_type": "code",
   "execution_count": null,
   "metadata": {},
   "outputs": [],
   "source": []
  }
 ],
 "metadata": {
  "colab": {
   "authorship_tag": "ABX9TyNRlZwJj7VIahkhh9xx98KV",
   "provenance": []
  },
  "kernelspec": {
   "display_name": "Python 3 (ipykernel)",
   "language": "python",
   "name": "python3"
  },
  "language_info": {
   "codemirror_mode": {
    "name": "ipython",
    "version": 3
   },
   "file_extension": ".py",
   "mimetype": "text/x-python",
   "name": "python",
   "nbconvert_exporter": "python",
   "pygments_lexer": "ipython3",
   "version": "3.11.4"
  }
 },
 "nbformat": 4,
 "nbformat_minor": 4
}
