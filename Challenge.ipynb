{
 "cells": [
  {
   "cell_type": "markdown",
   "metadata": {},
   "source": [
    "# Challenge Neural Works"
   ]
  },
  {
   "cell_type": "markdown",
   "metadata": {},
   "source": [
    "## Introducción\n",
    "\n",
    "Dentro de este notebook, se encuentra la solución en su completitud al item 1 y parcialmente al item 2. Para una correcta ejecución del la solución, se debe correr primero las celdas de la sección **Script de despliegue**."
   ]
  },
  {
   "cell_type": "markdown",
   "metadata": {},
   "source": [
    "## Script de despliegue\n",
    "\n",
    "En esta sección se instalan las librerías necesarias para el correcto funcionamiento de la solución, además de configurar la base de datos con el modelo utilizado para el desarrollo del problema."
   ]
  },
  {
   "cell_type": "markdown",
   "metadata": {},
   "source": [
    "Instalación de las librerías de machine learning, de utilidad y comunicación con la base de datos en postgres."
   ]
  },
  {
   "cell_type": "code",
   "execution_count": 1,
   "metadata": {
    "scrolled": true
   },
   "outputs": [
    {
     "name": "stdout",
     "output_type": "stream",
     "text": [
      "Collecting numpy\n",
      "  Obtaining dependency information for numpy from https://files.pythonhosted.org/packages/f0/5a/9b7b7bae29f9f5f8a976607cd30139c1fec9076c0e65ea918d3400924acf/numpy-1.25.1-cp311-cp311-manylinux_2_17_x86_64.manylinux2014_x86_64.whl.metadata\n",
      "  Downloading numpy-1.25.1-cp311-cp311-manylinux_2_17_x86_64.manylinux2014_x86_64.whl.metadata (5.6 kB)\n",
      "Collecting pandas\n",
      "  Obtaining dependency information for pandas from https://files.pythonhosted.org/packages/d0/28/88b81881c056376254618fad622a5e94b5126db8c61157ea1910cd1c040a/pandas-2.0.3-cp311-cp311-manylinux_2_17_x86_64.manylinux2014_x86_64.whl.metadata\n",
      "  Downloading pandas-2.0.3-cp311-cp311-manylinux_2_17_x86_64.manylinux2014_x86_64.whl.metadata (18 kB)\n",
      "Collecting psycopg2-binary\n",
      "  Downloading psycopg2_binary-2.9.6-cp311-cp311-manylinux_2_17_x86_64.manylinux2014_x86_64.whl (3.0 MB)\n",
      "\u001b[2K     \u001b[90m━━━━━━━━━━━━━━━━━━━━━━━━━━━━━━━━━━━━━━━━\u001b[0m \u001b[32m3.0/3.0 MB\u001b[0m \u001b[31m27.5 MB/s\u001b[0m eta \u001b[36m0:00:00\u001b[0m00:01\u001b[0m00:01\u001b[0m\n",
      "\u001b[?25hCollecting scikit-learn\n",
      "  Obtaining dependency information for scikit-learn from https://files.pythonhosted.org/packages/1f/ad/9799aabeabcb9a293c87b6f96cc78655b8abc7d35560cd99007093b5d445/scikit_learn-1.3.0-cp311-cp311-manylinux_2_17_x86_64.manylinux2014_x86_64.whl.metadata\n",
      "  Downloading scikit_learn-1.3.0-cp311-cp311-manylinux_2_17_x86_64.manylinux2014_x86_64.whl.metadata (11 kB)\n",
      "Collecting matplotlib\n",
      "  Obtaining dependency information for matplotlib from https://files.pythonhosted.org/packages/4f/d7/3303f11188122f66c940056f162d030992e7fbc9c702869bab163e85156b/matplotlib-3.7.2-cp311-cp311-manylinux_2_17_x86_64.manylinux2014_x86_64.whl.metadata\n",
      "  Downloading matplotlib-3.7.2-cp311-cp311-manylinux_2_17_x86_64.manylinux2014_x86_64.whl.metadata (5.6 kB)\n",
      "Requirement already satisfied: python-dateutil>=2.8.2 in /opt/conda/lib/python3.11/site-packages (from pandas) (2.8.2)\n",
      "Requirement already satisfied: pytz>=2020.1 in /opt/conda/lib/python3.11/site-packages (from pandas) (2023.3)\n",
      "Collecting tzdata>=2022.1 (from pandas)\n",
      "  Downloading tzdata-2023.3-py2.py3-none-any.whl (341 kB)\n",
      "\u001b[2K     \u001b[90m━━━━━━━━━━━━━━━━━━━━━━━━━━━━━━━━━━━━━━\u001b[0m \u001b[32m341.8/341.8 kB\u001b[0m \u001b[31m23.1 MB/s\u001b[0m eta \u001b[36m0:00:00\u001b[0m\n",
      "\u001b[?25hCollecting scipy>=1.5.0 (from scikit-learn)\n",
      "  Obtaining dependency information for scipy>=1.5.0 from https://files.pythonhosted.org/packages/b8/46/1d255bb55e63de02f7b2f3a2f71b59b840db21d61ff7cd41edbfc2da448a/scipy-1.11.1-cp311-cp311-manylinux_2_17_x86_64.manylinux2014_x86_64.whl.metadata\n",
      "  Downloading scipy-1.11.1-cp311-cp311-manylinux_2_17_x86_64.manylinux2014_x86_64.whl.metadata (59 kB)\n",
      "\u001b[2K     \u001b[90m━━━━━━━━━━━━━━━━━━━━━━━━━━━━━━━━━━━━━━━━\u001b[0m \u001b[32m59.1/59.1 kB\u001b[0m \u001b[31m9.2 MB/s\u001b[0m eta \u001b[36m0:00:00\u001b[0m\n",
      "\u001b[?25hCollecting joblib>=1.1.1 (from scikit-learn)\n",
      "  Obtaining dependency information for joblib>=1.1.1 from https://files.pythonhosted.org/packages/28/08/9dcdaa5aac4634e4c23af26d92121f7ce445c630efa0d3037881ae2407fb/joblib-1.3.1-py3-none-any.whl.metadata\n",
      "  Downloading joblib-1.3.1-py3-none-any.whl.metadata (5.4 kB)\n",
      "Collecting threadpoolctl>=2.0.0 (from scikit-learn)\n",
      "  Obtaining dependency information for threadpoolctl>=2.0.0 from https://files.pythonhosted.org/packages/81/12/fd4dea011af9d69e1cad05c75f3f7202cdcbeac9b712eea58ca779a72865/threadpoolctl-3.2.0-py3-none-any.whl.metadata\n",
      "  Downloading threadpoolctl-3.2.0-py3-none-any.whl.metadata (10.0 kB)\n",
      "Collecting contourpy>=1.0.1 (from matplotlib)\n",
      "  Obtaining dependency information for contourpy>=1.0.1 from https://files.pythonhosted.org/packages/d8/23/8d968922459b1c8a2c6ffca28fac00324b06b3a0633be2a39b0b1c3f84ab/contourpy-1.1.0-cp311-cp311-manylinux_2_17_x86_64.manylinux2014_x86_64.whl.metadata\n",
      "  Downloading contourpy-1.1.0-cp311-cp311-manylinux_2_17_x86_64.manylinux2014_x86_64.whl.metadata (5.7 kB)\n",
      "Collecting cycler>=0.10 (from matplotlib)\n",
      "  Downloading cycler-0.11.0-py3-none-any.whl (6.4 kB)\n",
      "Collecting fonttools>=4.22.0 (from matplotlib)\n",
      "  Obtaining dependency information for fonttools>=4.22.0 from https://files.pythonhosted.org/packages/2c/35/5f4407acb9658fe93de10ac7998b22617c23ee9b51dada779cd9b66cfe99/fonttools-4.41.1-cp311-cp311-manylinux_2_17_x86_64.manylinux2014_x86_64.whl.metadata\n",
      "  Downloading fonttools-4.41.1-cp311-cp311-manylinux_2_17_x86_64.manylinux2014_x86_64.whl.metadata (150 kB)\n",
      "\u001b[2K     \u001b[90m━━━━━━━━━━━━━━━━━━━━━━━━━━━━━━━━━━━━━━\u001b[0m \u001b[32m150.0/150.0 kB\u001b[0m \u001b[31m12.7 MB/s\u001b[0m eta \u001b[36m0:00:00\u001b[0m\n",
      "\u001b[?25hCollecting kiwisolver>=1.0.1 (from matplotlib)\n",
      "  Downloading kiwisolver-1.4.4-cp311-cp311-manylinux_2_17_x86_64.manylinux2014_x86_64.whl (1.4 MB)\n",
      "\u001b[2K     \u001b[90m━━━━━━━━━━━━━━━━━━━━━━━━━━━━━━━━━━━━━━━━\u001b[0m \u001b[32m1.4/1.4 MB\u001b[0m \u001b[31m32.9 MB/s\u001b[0m eta \u001b[36m0:00:00\u001b[0ma \u001b[36m0:00:01\u001b[0m\n",
      "\u001b[?25hRequirement already satisfied: packaging>=20.0 in /opt/conda/lib/python3.11/site-packages (from matplotlib) (23.1)\n",
      "Collecting pillow>=6.2.0 (from matplotlib)\n",
      "  Obtaining dependency information for pillow>=6.2.0 from https://files.pythonhosted.org/packages/16/89/818fa238e37a47a29bb8495ca2cafdd514599a89f19ada7916348a74b5f9/Pillow-10.0.0-cp311-cp311-manylinux_2_28_x86_64.whl.metadata\n",
      "  Downloading Pillow-10.0.0-cp311-cp311-manylinux_2_28_x86_64.whl.metadata (9.5 kB)\n",
      "Collecting pyparsing<3.1,>=2.3.1 (from matplotlib)\n",
      "  Downloading pyparsing-3.0.9-py3-none-any.whl (98 kB)\n",
      "\u001b[2K     \u001b[90m━━━━━━━━━━━━━━━━━━━━━━━━━━━━━━━━━━━━━━━━\u001b[0m \u001b[32m98.3/98.3 kB\u001b[0m \u001b[31m12.1 MB/s\u001b[0m eta \u001b[36m0:00:00\u001b[0m\n",
      "\u001b[?25hRequirement already satisfied: six>=1.5 in /opt/conda/lib/python3.11/site-packages (from python-dateutil>=2.8.2->pandas) (1.16.0)\n",
      "Downloading numpy-1.25.1-cp311-cp311-manylinux_2_17_x86_64.manylinux2014_x86_64.whl (17.6 MB)\n",
      "\u001b[2K   \u001b[90m━━━━━━━━━━━━━━━━━━━━━━━━━━━━━━━━━━━━━━━━\u001b[0m \u001b[32m17.6/17.6 MB\u001b[0m \u001b[31m32.3 MB/s\u001b[0m eta \u001b[36m0:00:00\u001b[0m00:01\u001b[0m00:01\u001b[0m\n",
      "\u001b[?25hDownloading pandas-2.0.3-cp311-cp311-manylinux_2_17_x86_64.manylinux2014_x86_64.whl (12.2 MB)\n",
      "\u001b[2K   \u001b[90m━━━━━━━━━━━━━━━━━━━━━━━━━━━━━━━━━━━━━━━━\u001b[0m \u001b[32m12.2/12.2 MB\u001b[0m \u001b[31m36.8 MB/s\u001b[0m eta \u001b[36m0:00:00\u001b[0m00:01\u001b[0m00:01\u001b[0m\n",
      "\u001b[?25hDownloading scikit_learn-1.3.0-cp311-cp311-manylinux_2_17_x86_64.manylinux2014_x86_64.whl (10.9 MB)\n",
      "\u001b[2K   \u001b[90m━━━━━━━━━━━━━━━━━━━━━━━━━━━━━━━━━━━━━━━━\u001b[0m \u001b[32m10.9/10.9 MB\u001b[0m \u001b[31m37.1 MB/s\u001b[0m eta \u001b[36m0:00:00\u001b[0m00:01\u001b[0m00:01\u001b[0m\n",
      "\u001b[?25hDownloading matplotlib-3.7.2-cp311-cp311-manylinux_2_17_x86_64.manylinux2014_x86_64.whl (11.6 MB)\n",
      "\u001b[2K   \u001b[90m━━━━━━━━━━━━━━━━━━━━━━━━━━━━━━━━━━━━━━━━\u001b[0m \u001b[32m11.6/11.6 MB\u001b[0m \u001b[31m37.1 MB/s\u001b[0m eta \u001b[36m0:00:00\u001b[0m00:01\u001b[0m0:01\u001b[0m\n",
      "\u001b[?25hDownloading contourpy-1.1.0-cp311-cp311-manylinux_2_17_x86_64.manylinux2014_x86_64.whl (300 kB)\n",
      "\u001b[2K   \u001b[90m━━━━━━━━━━━━━━━━━━━━━━━━━━━━━━━━━━━━━━━━\u001b[0m \u001b[32m300.4/300.4 kB\u001b[0m \u001b[31m22.7 MB/s\u001b[0m eta \u001b[36m0:00:00\u001b[0m\n",
      "\u001b[?25hDownloading fonttools-4.41.1-cp311-cp311-manylinux_2_17_x86_64.manylinux2014_x86_64.whl (4.9 MB)\n",
      "\u001b[2K   \u001b[90m━━━━━━━━━━━━━━━━━━━━━━━━━━━━━━━━━━━━━━━━\u001b[0m \u001b[32m4.9/4.9 MB\u001b[0m \u001b[31m33.5 MB/s\u001b[0m eta \u001b[36m0:00:00\u001b[0m00:01\u001b[0m00:01\u001b[0m\n",
      "\u001b[?25hDownloading joblib-1.3.1-py3-none-any.whl (301 kB)\n",
      "\u001b[2K   \u001b[90m━━━━━━━━━━━━━━━━━━━━━━━━━━━━━━━━━━━━━━━━\u001b[0m \u001b[32m302.0/302.0 kB\u001b[0m \u001b[31m22.7 MB/s\u001b[0m eta \u001b[36m0:00:00\u001b[0m\n",
      "\u001b[?25hDownloading Pillow-10.0.0-cp311-cp311-manylinux_2_28_x86_64.whl (3.4 MB)\n",
      "\u001b[2K   \u001b[90m━━━━━━━━━━━━━━━━━━━━━━━━━━━━━━━━━━━━━━━━\u001b[0m \u001b[32m3.4/3.4 MB\u001b[0m \u001b[31m32.2 MB/s\u001b[0m eta \u001b[36m0:00:00\u001b[0m00:01\u001b[0m00:01\u001b[0m\n",
      "\u001b[?25hDownloading scipy-1.11.1-cp311-cp311-manylinux_2_17_x86_64.manylinux2014_x86_64.whl (36.2 MB)\n",
      "\u001b[2K   \u001b[90m━━━━━━━━━━━━━━━━━━━━━━━━━━━━━━━━━━━━━━━━\u001b[0m \u001b[32m36.2/36.2 MB\u001b[0m \u001b[31m29.1 MB/s\u001b[0m eta \u001b[36m0:00:00\u001b[0m00:01\u001b[0m00:01\u001b[0m\n",
      "\u001b[?25hDownloading threadpoolctl-3.2.0-py3-none-any.whl (15 kB)\n",
      "Installing collected packages: tzdata, threadpoolctl, pyparsing, psycopg2-binary, pillow, numpy, kiwisolver, joblib, fonttools, cycler, scipy, pandas, contourpy, scikit-learn, matplotlib\n",
      "Successfully installed contourpy-1.1.0 cycler-0.11.0 fonttools-4.41.1 joblib-1.3.1 kiwisolver-1.4.4 matplotlib-3.7.2 numpy-1.25.1 pandas-2.0.3 pillow-10.0.0 psycopg2-binary-2.9.6 pyparsing-3.0.9 scikit-learn-1.3.0 scipy-1.11.1 threadpoolctl-3.2.0 tzdata-2023.3\n"
     ]
    }
   ],
   "source": [
    "!pip install numpy pandas psycopg2-binary scikit-learn matplotlib"
   ]
  },
  {
   "cell_type": "markdown",
   "metadata": {},
   "source": [
    "Importación de las librerías que se utilizarán en el desarrollo de la solución."
   ]
  },
  {
   "cell_type": "code",
   "execution_count": 2,
   "metadata": {
    "executionInfo": {
     "elapsed": 980,
     "status": "ok",
     "timestamp": 1690574130511,
     "user": {
      "displayName": "Tomás Berrios",
      "userId": "10724030856806326074"
     },
     "user_tz": 240
    },
    "id": "kKbzINkycZpC"
   },
   "outputs": [],
   "source": [
    "import time\n",
    "import numpy as np\n",
    "import pandas as pd\n",
    "import requests\n",
    "import datetime\n",
    "import psycopg2\n",
    "import matplotlib.pyplot as plt\n",
    "\n",
    "from json import loads\n",
    "from datetime import datetime\n",
    "from sklearn.cluster import KMeans, DBSCAN, OPTICS, MeanShift\n",
    "from sklearn.preprocessing import MinMaxScaler, StandardScaler\n",
    "from sklearn.metrics import silhouette_score\n",
    "from sklearn.model_selection import train_test_split"
   ]
  },
  {
   "cell_type": "markdown",
   "metadata": {},
   "source": [
    "Definición de funciones importantes para la configuración incial."
   ]
  },
  {
   "cell_type": "code",
   "execution_count": 3,
   "metadata": {},
   "outputs": [],
   "source": [
    "#########################################################################################################\n",
    "#\n",
    "# Función utilizada para realizar una conección directa con Postgres para poder construir la base de\n",
    "# datos a utilizar en la solución.\n",
    "#\n",
    "#########################################################################################################\n",
    "def create_db():\n",
    "    # Conexion con postgres mediante la libreria de psycopg2\n",
    "    connection_db = psycopg2.connect(user = \"postgres\", \n",
    "                            host= 'postgres',\n",
    "                            password = \"nw_challenge\",\n",
    "                            port = 5432\n",
    "                           )\n",
    "\n",
    "    # definicion de estado, en el cual no es necesario realizar los commit de las queries\n",
    "    connection_db.autocommit = True\n",
    "\n",
    "    # definicion del cursos para el manejo de las queries\n",
    "    cursor_db = connection_db.cursor()\n",
    "\n",
    "    # definicion de la query a realizar, para crear la base de datos\n",
    "    sql_query = \"CREATE database challenge\"\n",
    "\n",
    "    # ejecucion de la query\n",
    "    cursor_db.execute(sql_query)\n",
    "\n",
    "    # cerrando la conexion con postgres\n",
    "    connection_db.close()\n",
    "    \n",
    "    return None\n",
    "\n",
    "#########################################################################################################\n",
    "#\n",
    "# Función utilizada para establecer la conexion con postgres y la base de datos principal para la \n",
    "# solucion del problema. La función entrega la conexion realizada con la base de datos\n",
    "#\n",
    "#########################################################################################################\n",
    "def connection_to_db():\n",
    "    # definicion de la conexion con la base de datos \"challenge\" con sus respectivas credenciales\n",
    "    connection_db = psycopg2.connect(database = \"challenge\", \n",
    "                            user = \"postgres\", \n",
    "                            host= 'postgres',\n",
    "                            password = \"nw_challenge\",\n",
    "                            port = 5432\n",
    "                           )\n",
    "    return connection_db\n",
    "\n",
    "#########################################################################################################\n",
    "#\n",
    "# Función utilizada para crear solamente una tabla para el modelo de datos en la bd de Postgres\n",
    "#\n",
    "#########################################################################################################\n",
    "def create_table():\n",
    "    # obtener la comunicacion con la bd y definicion del cursos\n",
    "    connection_db = connection_to_db()\n",
    "    cursor_db = connection_db.cursor()\n",
    "\n",
    "    # establecer la query a realizar, la cual corresponde a la creacion de la tabla para el manejo \n",
    "    # de datos\n",
    "    cursor_db.execute(\"\"\"CREATE TABLE trips(\n",
    "                trip_id SERIAL PRIMARY KEY,\n",
    "                region VARCHAR (50) NOT NULL,\n",
    "                datasource VARCHAR (50) NOT NULL,\n",
    "                origin_coord VARCHAR (100) NOT NULL,\n",
    "                destination_coord VARCHAR (100) NOT NULL,\n",
    "                datetime TIMESTAMP NOT NULL,\n",
    "                cluster INT NOT NULL);\n",
    "                \"\"\")\n",
    "    # realizar el commit de la query\n",
    "    connection_db.commit()\n",
    "\n",
    "    # cerrar conexiones\n",
    "    cursor_db.close()\n",
    "    connection_db.close()\n",
    "    return None\n",
    "\n",
    "#########################################################################################################\n",
    "#\n",
    "# Función utilizada eliminar todos los registros de una tabla *table* que es entregada por parametros\n",
    "#\n",
    "#########################################################################################################\n",
    "def delete_all_records(table):\n",
    "    # obtener la comunicacion con la bd y definicion del cursos\n",
    "    connection_db = connection_to_db()\n",
    "    cursor_db = connection_db.cursor()\n",
    "    # realizacion de la query para eliminar todos los elementos presentes en la tabla *table*\n",
    "    cursor_db.execute(\n",
    "        f\"DELETE FROM {table}\"\n",
    "    );\n",
    "\n",
    "    # realizacion del commit de la query junto con el cierre de todas las conexiones a la bd\n",
    "    connection_db.commit()\n",
    "    cursor_db.close()\n",
    "    connection_db.close()\n",
    "    return None\n",
    "\n",
    "\n",
    "#########################################################################################################\n",
    "#\n",
    "# Función utilizada para insertar todos los registros presentes en el dataframe *df*, el cual sigue el\n",
    "# modelo de la tabla \"trips\".\n",
    "#\n",
    "#########################################################################################################\n",
    "def insert_records_from_df(df):\n",
    "    # obtener la comunicacion con la bd y definicion del cursos\n",
    "    connection_db = connection_to_db()\n",
    "    cursor_db = connection_db.cursor()\n",
    "\n",
    "    # iteracion por todos los documentos del dataframe\n",
    "    for index in df.index:\n",
    "\n",
    "        # realizacion de la query para insertar un registro en la tabla \"trips\"\n",
    "        cursor_db.execute(\n",
    "            f\"\"\"INSERT INTO \n",
    "            trips(region, origin_coord, destination_coord, datetime, datasource, cluster) \n",
    "            VALUES('{df['region'][index]}', '{df['origin_coord'][index]}', '{df['destination_coord'][index]}', '{df['datetime'][index]}', '{df['datasource'][index]}', '{df['cluster'][index]}')\"\"\"\n",
    "        );\n",
    "\n",
    "    # realizacion del commit de la query junto con el cierre de todas las conexiones a la bd\n",
    "    connection_db.commit()\n",
    "    cursor_db.close()\n",
    "    connection_db.close()\n",
    "    return None"
   ]
  },
  {
   "cell_type": "markdown",
   "metadata": {},
   "source": [
    "Celdas para ejecutar la configuración inicial del ambiente y la base de datos."
   ]
  },
  {
   "cell_type": "code",
   "execution_count": 4,
   "metadata": {},
   "outputs": [],
   "source": [
    "create_db()"
   ]
  },
  {
   "cell_type": "code",
   "execution_count": 5,
   "metadata": {},
   "outputs": [],
   "source": [
    "create_table()"
   ]
  },
  {
   "cell_type": "code",
   "execution_count": 6,
   "metadata": {},
   "outputs": [],
   "source": [
    "delete_all_records('trips')"
   ]
  },
  {
   "cell_type": "markdown",
   "metadata": {},
   "source": [
    "## 1° Item\n",
    "\n",
    "Este problema se basa en la extracción de datos desde un archivo .csv y su posterior almacenamiento en una base de datos basada en SQL, donde se debe agrupar los registros que sean similaren en cuanto a su origen, destino y hora del día. \n",
    "\n",
    "Para solucionar este problema, primera que nada se realizó un enfoque en limpiar y manejar los datos de una forma más comoda para que sean procesadas. Para esto, se extraen las componentes *x* e *y* de las coordenadas de origen y destino de los viajes, además de extraer solamente la hora del timestamp presente en cada registro. Una vez que los datos hayan sido limpiados y procesados, el problema se resume a realizar un clustering de los datos, por lo que se procede con una normalización de los datos, para que la diferencia de escalas entre los diferentes features no sea un factor negativo a la hora de realizar el cluster. Para el cluster se utilizará el algoritmo MeanShift, dado que permite una escalabilidad por su alto desempeño en clustering de baja dimensionalidad y dado que es un problema de clustering en el cual no se sabe con certeza cuantos clusters serán."
   ]
  },
  {
   "cell_type": "code",
   "execution_count": 52,
   "metadata": {},
   "outputs": [],
   "source": [
    "#########################################################################################################\n",
    "#\n",
    "# Función para convertir el string de la coordenada *point_string* en una tupla de floats\n",
    "#\n",
    "#########################################################################################################\n",
    "def point_string_to_point(point_string):\n",
    "    _, x, y = point_string.split(' ')\n",
    "    return float(x[1:]), float(y[:-1])\n",
    "\n",
    "#########################################################################################################\n",
    "#\n",
    "# Función utilizada para extraer la hora desde el timestamp\n",
    "#\n",
    "#########################################################################################################\n",
    "def datetime_to_hour(d):\n",
    "    return (d.timetuple()).tm_hour\n",
    "\n",
    "#########################################################################################################\n",
    "#\n",
    "# Función utilizada para realizar una limpieza del archivo con los viajes\n",
    "#\n",
    "#########################################################################################################\n",
    "def clean_df(df):\n",
    "    # realizar una barrida de los registros donde se encuentren indefinidos o nan\n",
    "    cleaned_df = df.dropna()[['origin_coord', 'destination_coord', 'datetime']]\n",
    "    # conversion de las coordenadas a dos nuevas columnas con sus componentes cartesianas\n",
    "    cleaned_df[['origin_coord_x', 'origin_coord_y']] = cleaned_df['origin_coord'].apply(point_string_to_point).to_list()\n",
    "    cleaned_df[['destination_coord_x', 'destination_coord_y']] = cleaned_df['destination_coord'].apply(point_string_to_point).to_list()\n",
    "    # extraccion de la hora del timestamp\n",
    "    cleaned_df['datetime'] = pd.to_datetime(cleaned_df['datetime']).apply(datetime_to_hour)\n",
    "    cleaned_df = cleaned_df.drop(['origin_coord', 'destination_coord'], axis=1)\n",
    "    return cleaned_df"
   ]
  },
  {
   "cell_type": "markdown",
   "metadata": {},
   "source": [
    "Lectura del archivo de prueba"
   ]
  },
  {
   "cell_type": "code",
   "execution_count": 48,
   "metadata": {},
   "outputs": [],
   "source": [
    "df = pd.read_csv('trips.csv')"
   ]
  },
  {
   "cell_type": "code",
   "execution_count": 54,
   "metadata": {},
   "outputs": [],
   "source": [
    "#########################################################################################################\n",
    "#\n",
    "# Función utilizada para realizar un pequeo analisis exploratorio de los datos presentes en el archivo\n",
    "# de prueba\n",
    "#\n",
    "#########################################################################################################\n",
    "def plot_trips(df):\n",
    "    cleaned_df = clean_df(df)\n",
    "    min_max_scaler = MinMaxScaler()\n",
    "    normalized_datetime_minmax = min_max_scaler.fit_transform(np.array(cleaned_df['datetime']).reshape(-1, 1))\n",
    "    cleaned_df['datetime'] = normalized_datetime_minmax\n",
    "    fig = plt.figure(figsize=(25,25))\n",
    "    plt.rcParams.update({'font.size': 24})\n",
    "    plt.scatter(cleaned_df['origin_coord_x'], cleaned_df['origin_coord_y'], alpha = cleaned_df['datetime'], label=\"origin coords\")\n",
    "    plt.scatter(cleaned_df['destination_coord_x'], cleaned_df['destination_coord_y'], alpha = cleaned_df['datetime'])\n",
    "    plt.title(\"Trips in the time\")\n",
    "    plt.xlabel(\"X\")\n",
    "    plt.ylabel(\"Y\")\n",
    "    plt.legend(['origin coords', 'destination coords'], loc =\"upper right\")\n",
    "    plt.show()\n",
    "    return None"
   ]
  },
  {
   "cell_type": "code",
   "execution_count": 55,
   "metadata": {},
   "outputs": [
    {
     "data": {
      "image/png": "[encoded data removed]",
      "text/plain": [
       "<Figure size 2500x2500 with 1 Axes>"
      ]
     },
     "metadata": {},
     "output_type": "display_data"
    }
   ],
   "source": [
    "# plot de los datos presentes en el dataframe *df*\n",
    "plot_trips(df)"
   ]
  },
  {
   "cell_type": "markdown",
   "metadata": {},
   "source": [
    "Celda para el procesamiento de datos, desde su limpieza hasta su normalización de los datos, realizado con las funciones declaradas previamente."
   ]
  },
  {
   "cell_type": "code",
   "execution_count": 12,
   "metadata": {
    "colab": {
     "base_uri": "https://localhost:8080/",
     "height": 423
    },
    "executionInfo": {
     "elapsed": 376,
     "status": "ok",
     "timestamp": 1690574437578,
     "user": {
      "displayName": "Tomás Berrios",
      "userId": "10724030856806326074"
     },
     "user_tz": 240
    },
    "id": "462DmZiRcjxA",
    "outputId": "5cb23a7a-d8bf-4921-99c0-56f0b1bcc47e"
   },
   "outputs": [
    {
     "data": {
      "text/html": [
       "<div>\n",
       "<style scoped>\n",
       "    .dataframe tbody tr th:only-of-type {\n",
       "        vertical-align: middle;\n",
       "    }\n",
       "\n",
       "    .dataframe tbody tr th {\n",
       "        vertical-align: top;\n",
       "    }\n",
       "\n",
       "    .dataframe thead th {\n",
       "        text-align: right;\n",
       "    }\n",
       "</style>\n",
       "<table border=\"1\" class=\"dataframe\">\n",
       "  <thead>\n",
       "    <tr style=\"text-align: right;\">\n",
       "      <th></th>\n",
       "      <th>datetime</th>\n",
       "      <th>origin_coord_x</th>\n",
       "      <th>origin_coord_y</th>\n",
       "      <th>destination_coord_x</th>\n",
       "      <th>destination_coord_y</th>\n",
       "    </tr>\n",
       "  </thead>\n",
       "  <tbody>\n",
       "    <tr>\n",
       "      <th>0</th>\n",
       "      <td>0.896871</td>\n",
       "      <td>0.976304</td>\n",
       "      <td>0.579207</td>\n",
       "      <td>0.967195</td>\n",
       "      <td>0.583318</td>\n",
       "    </tr>\n",
       "    <tr>\n",
       "      <th>1</th>\n",
       "      <td>0.657174</td>\n",
       "      <td>0.022324</td>\n",
       "      <td>0.002258</td>\n",
       "      <td>0.028431</td>\n",
       "      <td>0.009929</td>\n",
       "    </tr>\n",
       "    <tr>\n",
       "      <th>2</th>\n",
       "      <td>0.401143</td>\n",
       "      <td>0.952106</td>\n",
       "      <td>0.579052</td>\n",
       "      <td>0.973712</td>\n",
       "      <td>0.589414</td>\n",
       "    </tr>\n",
       "    <tr>\n",
       "      <th>3</th>\n",
       "      <td>0.171227</td>\n",
       "      <td>0.003966</td>\n",
       "      <td>0.013310</td>\n",
       "      <td>0.031917</td>\n",
       "      <td>0.005139</td>\n",
       "    </tr>\n",
       "    <tr>\n",
       "      <th>4</th>\n",
       "      <td>0.736812</td>\n",
       "      <td>0.014110</td>\n",
       "      <td>0.018235</td>\n",
       "      <td>0.001450</td>\n",
       "      <td>0.005954</td>\n",
       "    </tr>\n",
       "    <tr>\n",
       "      <th>...</th>\n",
       "      <td>...</td>\n",
       "      <td>...</td>\n",
       "      <td>...</td>\n",
       "      <td>...</td>\n",
       "      <td>...</td>\n",
       "    </tr>\n",
       "    <tr>\n",
       "      <th>95</th>\n",
       "      <td>0.084692</td>\n",
       "      <td>0.953693</td>\n",
       "      <td>0.585939</td>\n",
       "      <td>0.970263</td>\n",
       "      <td>0.586671</td>\n",
       "    </tr>\n",
       "    <tr>\n",
       "      <th>96</th>\n",
       "      <td>0.736752</td>\n",
       "      <td>0.347171</td>\n",
       "      <td>0.984997</td>\n",
       "      <td>0.371714</td>\n",
       "      <td>0.984292</td>\n",
       "    </tr>\n",
       "    <tr>\n",
       "      <th>97</th>\n",
       "      <td>0.367211</td>\n",
       "      <td>0.964056</td>\n",
       "      <td>0.583405</td>\n",
       "      <td>0.990677</td>\n",
       "      <td>0.584954</td>\n",
       "    </tr>\n",
       "    <tr>\n",
       "      <th>98</th>\n",
       "      <td>0.700889</td>\n",
       "      <td>0.359287</td>\n",
       "      <td>0.993593</td>\n",
       "      <td>0.372389</td>\n",
       "      <td>0.994799</td>\n",
       "    </tr>\n",
       "    <tr>\n",
       "      <th>99</th>\n",
       "      <td>0.485502</td>\n",
       "      <td>0.993080</td>\n",
       "      <td>0.582906</td>\n",
       "      <td>0.950534</td>\n",
       "      <td>0.589719</td>\n",
       "    </tr>\n",
       "  </tbody>\n",
       "</table>\n",
       "<p>100 rows × 5 columns</p>\n",
       "</div>"
      ],
      "text/plain": [
       "    datetime  origin_coord_x  origin_coord_y  destination_coord_x  \\\n",
       "0   0.896871        0.976304        0.579207             0.967195   \n",
       "1   0.657174        0.022324        0.002258             0.028431   \n",
       "2   0.401143        0.952106        0.579052             0.973712   \n",
       "3   0.171227        0.003966        0.013310             0.031917   \n",
       "4   0.736812        0.014110        0.018235             0.001450   \n",
       "..       ...             ...             ...                  ...   \n",
       "95  0.084692        0.953693        0.585939             0.970263   \n",
       "96  0.736752        0.347171        0.984997             0.371714   \n",
       "97  0.367211        0.964056        0.583405             0.990677   \n",
       "98  0.700889        0.359287        0.993593             0.372389   \n",
       "99  0.485502        0.993080        0.582906             0.950534   \n",
       "\n",
       "    destination_coord_y  \n",
       "0              0.583318  \n",
       "1              0.009929  \n",
       "2              0.589414  \n",
       "3              0.005139  \n",
       "4              0.005954  \n",
       "..                  ...  \n",
       "95             0.586671  \n",
       "96             0.984292  \n",
       "97             0.584954  \n",
       "98             0.994799  \n",
       "99             0.589719  \n",
       "\n",
       "[100 rows x 5 columns]"
      ]
     },
     "execution_count": 12,
     "metadata": {},
     "output_type": "execute_result"
    }
   ],
   "source": [
    "# limpieza del dataframe\n",
    "cleaned_df = clean_df(df)\n",
    "\n",
    "# normalización de los datos en una escala de 0 a 1 (min max)\n",
    "min_max_scaler = MinMaxScaler()\n",
    "normalized_df_minmax = min_max_scaler.fit_transform(cleaned_df)\n",
    "normalized_df = pd.DataFrame(normalized_df_minmax, columns=cleaned_df.columns)\n",
    "\n",
    "normalized_df"
   ]
  },
  {
   "cell_type": "markdown",
   "metadata": {},
   "source": [
    "Definición de funciones importantes para la busqueda de hiperparámetros del modelo, para buscar el mejor hiperparámetro. Para esto se realizó una segmentación de los datos en tres sets, uno de entrenamiento (70%), de validación (~20%) y testeo final (~10%). Para medir el rendimiento del modelo, se utilizará la metrica de silhouette score, dado que es una métrica típica para medir que también se realizó la clusterización de los datos."
   ]
  },
  {
   "cell_type": "code",
   "execution_count": 13,
   "metadata": {},
   "outputs": [],
   "source": [
    "#########################################################################################################\n",
    "#\n",
    "# Función utilizada para obtener el score mediante la metrica de silhouette\n",
    "#\n",
    "#########################################################################################################\n",
    "def model_score(data, optics_result):\n",
    "    #\n",
    "    return silhouette_score(data, optics_result)\n",
    "\n",
    "#########################################################################################################\n",
    "#\n",
    "# Función utilizada para realizar la iteración de los posibles hiperparametros a evaluar\n",
    "#\n",
    "#########################################################################################################\n",
    "def hyperparameter_optimization(bandwith_options, data):\n",
    "    # definicion de las variables de control\n",
    "    best_score = -1.\n",
    "    best_bandwith = None\n",
    "\n",
    "    # split de los set de testeo, entrenamiento y validación\n",
    "    X_train, X_test, _, _ = train_test_split(data, data, test_size=0.3, random_state=1)\n",
    "    X_val, X_test, _, _ = train_test_split(X_test, X_test, test_size=0.33, random_state=1)\n",
    "\n",
    "    # iteración por los hiperparámetros\n",
    "    for bandwith_i in bandwith_options:\n",
    "        # definicion del modelo\n",
    "        meanshift_model = MeanShift(bandwidth = bandwith_i)\n",
    "\n",
    "        # entrenamiento del modelo\n",
    "        meanshift_model.fit(X_train)\n",
    "        # predicción con el grupo de control de validación\n",
    "        meanshift_result = meanshift_model.predict(X_val)\n",
    "\n",
    "        # obtención de la metrica\n",
    "        current_model_score = model_score(X_val, meanshift_result)\n",
    "\n",
    "        # comprobación si es óptimo el valor\n",
    "        if current_model_score > best_score:\n",
    "            best_score = current_model_score\n",
    "            best_bandwith = bandwith_i\n",
    "\n",
    "    # comprobación final con el grupo de control de testeo final con el hiperparametro encontrado\n",
    "    meanshift_model = MeanShift(bandwidth = best_bandwith)\n",
    "    meanshift_model.fit(X_train)\n",
    "    meanshift_result = meanshift_model.predict(X_test)\n",
    "    print(f'Score final del modelo con un bandwith de {best_bandwith}: {model_score(X_test, meanshift_result)}')\n",
    "\n",
    "    return best_bandwith, best_score\n"
   ]
  },
  {
   "cell_type": "markdown",
   "metadata": {},
   "source": [
    "En la siguiente celda se declarará que hiperparámetro se manejará. En este caso para el modelo de Mean Shift, solo se tiene el hiperparámetro de bandwidth, el cual para esta solución, se ocilará entre [0.05, 1] variando de 0.05 entre cada intervalo. Se experimentó previamente con número mayores a 1 y la eficiencia del modelo decaia, por lo que se intué que el óptimo se pueda encontrar en ese intervalo."
   ]
  },
  {
   "cell_type": "code",
   "execution_count": 14,
   "metadata": {},
   "outputs": [
    {
     "name": "stdout",
     "output_type": "stream",
     "text": [
      "Score final del modelo con un bandwith de 0.4: 0.7852820152076343\n"
     ]
    },
    {
     "data": {
      "text/plain": [
       "(0.4, 0.7194372659361163)"
      ]
     },
     "execution_count": 14,
     "metadata": {},
     "output_type": "execute_result"
    }
   ],
   "source": [
    "# definicion del intervalo a utilizar\n",
    "bandwith_options = [round(i*0.05, 2) for i in range(1, 21)]\n",
    "\n",
    "# obtencion del mejor hiperparámetro\n",
    "best_bandwith, best_score = hyperparameter_optimization(bandwith_options, normalized_df)\n",
    "best_bandwith, best_score"
   ]
  },
  {
   "cell_type": "markdown",
   "metadata": {},
   "source": [
    "En la siguiente celda se define ya el modelo a utilizar junto con el hiperparámetro encontrado para ser entrenado inicialmente con el dataset entregado."
   ]
  },
  {
   "cell_type": "code",
   "execution_count": 15,
   "metadata": {},
   "outputs": [],
   "source": [
    "# definición del modelo final\n",
    "bandwidth = best_bandwith\n",
    "\n",
    "meanshift_model = MeanShift(bandwidth = bandwidth)\n",
    "\n",
    "meanshift_result = meanshift_model.fit_predict(normalized_df)\n",
    "\n",
    "df['cluster'] = meanshift_result"
   ]
  },
  {
   "cell_type": "code",
   "execution_count": 25,
   "metadata": {},
   "outputs": [],
   "source": [
    "# inserción de los registros ya agrupados con el algoritmo de clustering en la base de datos en Postgres\n",
    "insert_records_from_df(df)"
   ]
  },
  {
   "cell_type": "markdown",
   "metadata": {
    "id": "MkZNBzBdYogA"
   },
   "source": [
    "## 2° Item\n",
    "\n",
    "Este problema se basa en obtener todos los viajes que se encuentren dentro de una bounding box definida.\n",
    "\n",
    "Para este problema se asume que la bounding box será un cuadrilatero y para que un viaje pertenezca a la bounding box, este debe partir y terminar dentro de esta área definida, además, se asume que el punto esta dentro si es que también esta en los límites del cuadrilatero. Para la solución a este problema, se utilizará un algoritmo empleado en clipping (el algoritmo de Cohen-Sutherland clipping), en el cual se define el estado en base a bit, en donde se encuentra un punto dentor de un área de interés, para obtener la posición de este, se utilizará una propiedad matemática relacionada con el producto cruz, en el cual, dado un vertice con una orientación dentro de un poligono y un punto en el espacio, el producto cruz entre el vertice y uno de las aristas del vertice unida al punto, el signo del resultado de este producto cruz, indicaría en donde se posiciona este punto, izquierda positivo, derecha negativo y 0 en perpendicular, por lo que, si todos los productos cruz entre un punto y los vertices de un poligono dan negativo, indica que el punto se encuentra dentro de este. Siguiendo la misma lógica, se realizó un algoritmo simple con esta premisaán"
   ]
  },
  {
   "cell_type": "code",
   "execution_count": 17,
   "metadata": {
    "executionInfo": {
     "elapsed": 4,
     "status": "ok",
     "timestamp": 1690565837709,
     "user": {
      "displayName": "Tomás Berrios",
      "userId": "10724030856806326074"
     },
     "user_tz": 240
    },
    "id": "TyQlw0syYugh"
   },
   "outputs": [],
   "source": [
    "\n",
    "#########################################################################################################\n",
    "#\n",
    "# Función utilizada para obtener el vector de bits de un punto en el espacio frente a un cuadrilatero.\n",
    "# El punto *coord*, debe realizar el producto cruz con cada vertice del cuadrilatero definido por los\n",
    "# puntos *p1* y *p2*.\n",
    "#\n",
    "#########################################################################################################\n",
    "\n",
    "def create_cohen_sutherland_clipping_bits(coord, p1, p2):\n",
    "\n",
    "    # definicion de puntos necesarios para la confección de la matriz de con las operaciones de producto cruz\n",
    "    p1_x, p1_y = p1\n",
    "    p2_x, p2_y = p2\n",
    "    x, y = coord\n",
    "\n",
    "    # el producto cruz a realizar entre cada vertice y punto se define como x1*y2 - x2*y1, siendo (x1, y1) el par\n",
    "    # de coordenadas del primer vector y (x2, y2) del segundo, por lo tanto con un arreglo de matrices, se pueden\n",
    "    # realizar todas las operaciones confeccionando las siguientes matrices\n",
    "    \n",
    "    A = np.array(\n",
    "        [\n",
    "            [0, p2_y - p1_y],\n",
    "            [p2_x - p1_x, 0],\n",
    "            [0, p1_y - p2_y],\n",
    "            [p1_x - p2_x, 0],\n",
    "        ]\n",
    "    )\n",
    "\n",
    "    B = np.array(\n",
    "        [\n",
    "            [x - p1_x, y - p2_y],\n",
    "            [x - p2_x, y - p2_y],\n",
    "            [x - p2_x, y - p1_y],\n",
    "            [x - p1_x, y - p1_y],\n",
    "        ]\n",
    "    )\n",
    "\n",
    "    # producto cruz de los vectores\n",
    "    coord_bits = np.cross(A, B)\n",
    "    # definir si un punto esta dentro o fuera de la caja, en caso de cumplirse que este dentro de la bounding box, se define el vector 0\n",
    "    # caso contrario el vector unitario\n",
    "    coord_bits[coord_bits > 0.] = 1.\n",
    "    # cabe destacar que el <= define que el punto también puede estar en el borde del cuadrilatero\n",
    "    coord_bits[coord_bits <= 0.] = 0.\n",
    "    \n",
    "    return coord_bits\n",
    "\n",
    "#########################################################################################################\n",
    "#\n",
    "# Función general utilizada para comprobar dado un viaje con un origen(*origin_coord*) y\n",
    "# destino(*destination_coord*), si se encuentran ambos dentro de la bounding box definida por *p1* y *p2*\n",
    "#\n",
    "#########################################################################################################\n",
    "def check_trip_in_bounding_box(origin_coord, destination_coord, p1, p2):\n",
    "\n",
    "    origin_bits = create_cohen_sutherland_clipping_bits(origin_coord, p1, p2)\n",
    "    destination_bits = create_cohen_sutherland_clipping_bits(destination_coord, p1, p2)\n",
    "\n",
    "    # comprobación si ambos vectores son 0's\n",
    "    return (origin_bits == destination_bits).all() and (origin_bits == np.array([0., 0., 0., 0.])).all()"
   ]
  },
  {
   "cell_type": "code",
   "execution_count": 18,
   "metadata": {},
   "outputs": [],
   "source": [
    "#########################################################################################################\n",
    "#\n",
    "# Función utilizada para obtener en base a una tabla *table* en la bd, todos los registros que\n",
    "# correspondan a la región *region*\n",
    "#\n",
    "#########################################################################################################\n",
    "def get_record_by_region(table, region):\n",
    "    # establecer conexion con la bd\n",
    "    connection_db = connection_to_db()\n",
    "    cursor_db = connection_db.cursor()\n",
    "    # realización de la query\n",
    "    cursor_db.execute(f\"SELECT * FROM {table} WHERE \\\"region\\\" = '{region}'\")\n",
    "    # buscar todos los registros que cumplan la restriccion\n",
    "    records = cursor_db.fetchall()\n",
    "    # cerrando las conexiones\n",
    "    cursor_db.close()\n",
    "    connection_db.close()\n",
    "    return records"
   ]
  },
  {
   "cell_type": "code",
   "execution_count": 19,
   "metadata": {},
   "outputs": [],
   "source": [
    "#########################################################################################################\n",
    "#\n",
    "# Función general para obtener todos viajes presentes en una bounding box, definida por *p1* y *p2*\n",
    "#\n",
    "#########################################################################################################\n",
    "def get_trips_by_bounding_box(records, p1, p2):\n",
    "    \n",
    "    records_filtered_by_bounding_box = []\n",
    "\n",
    "    # recorrido uno por uno de los viajes\n",
    "    for record in records:\n",
    "        # obtenciones de las coordenadsa en tuplas de floats\n",
    "        origin_coord = point_string_to_point(record[3])\n",
    "        destination_coord = point_string_to_point(record[4])\n",
    "        # checkeo si cumplen la restricción\n",
    "        if check_trip_in_bounding_box(origin_coord, destination_coord, p1, p2):\n",
    "            records_filtered_by_bounding_box.append(record)\n",
    "    return records_filtered_by_bounding_box"
   ]
  },
  {
   "cell_type": "code",
   "execution_count": 20,
   "metadata": {},
   "outputs": [],
   "source": [
    "#########################################################################################################\n",
    "#\n",
    "# Función utilizada para mostrar los registros que se encuentran dentro de una bounding box definida por\n",
    "# *p1* y *p2*\n",
    "#\n",
    "#########################################################################################################\n",
    "def plot_trips_in_bounding_box(trips, p1, p2):\n",
    "    dataframe = pd.DataFrame(trips, columns=['trip_id', 'region', 'datasource', 'origin_coord', 'destination_coord', 'datetime', 'cluster'])\n",
    "    cleaned_df = clean_df(dataframe)\n",
    "    fig = plt.figure(figsize=(8,8))\n",
    "    rectangle = plt.Rectangle(xy = p1, width = p2[0] - p1[0], height = p2[1] - p1[1], ec = \"red\", alpha=0.5, fill=None)\n",
    "    plt.gca().add_patch(rectangle)\n",
    "    \n",
    "    plt.rcParams.update({'font.size': 8})\n",
    "    plt.scatter(cleaned_df['origin_coord_x'], cleaned_df['origin_coord_y'], color = \"blue\")\n",
    "    plt.scatter(cleaned_df['destination_coord_x'], cleaned_df['destination_coord_y'], color = \"orange\")\n",
    "    plt.title(\"\")\n",
    "    plt.xlabel(\"X\")\n",
    "    plt.ylabel(\"Y\")\n",
    "    plt.legend(['bounding box', 'origin coords', 'destination coords'], loc =\"upper right\")\n",
    "    plt.show()\n",
    "    return None"
   ]
  },
  {
   "cell_type": "markdown",
   "metadata": {},
   "source": [
    "En la siguiente celda se definirá las variables a trabajar con la bounding box y la región"
   ]
  },
  {
   "cell_type": "code",
   "execution_count": 21,
   "metadata": {},
   "outputs": [],
   "source": [
    "region = 'Turin'\n",
    "p1_bounding_box = (7.5, 45.)\n",
    "p2_bounding_box = (7.85, 45.15)\n",
    "\n",
    "# obtención de los registros por región deseada\n",
    "records_filtered_by_region = get_record_by_region('trips', region)\n",
    "# obtención de los registros que se encuentran dentro de la bb\n",
    "records_filtered_by_bounding_box = get_trips_by_bounding_box(records_filtered_by_region, p1_bounding_box, p2_bounding_box)"
   ]
  },
  {
   "cell_type": "code",
   "execution_count": 22,
   "metadata": {},
   "outputs": [
    {
     "data": {
      "image/png": "[encoded data removed]",
      "text/plain": [
       "<Figure size 800x800 with 1 Axes>"
      ]
     },
     "metadata": {},
     "output_type": "display_data"
    }
   ],
   "source": [
    "# llamado a la función para visualizar los puntos dentro del área de interés\n",
    "plot_trips_in_bounding_box(records_filtered_by_bounding_box, p1_bounding_box, p2_bounding_box)"
   ]
  },
  {
   "cell_type": "markdown",
   "metadata": {},
   "source": [
    "Para completar el siguiente requerimiento del item 2, el cual corresponde a la ingesta de datos, se dividió la solución en dos notebooks, para que un notebook actuase como un listener y el otro envié los datos que son agregados a la base de datos. En este caso, este notebook en particular cumple la función de procesar los datos y luego enviarlos al otro notebook para que puedan ser visualizados allá, cabe destacar que para que estas celdas sean accionadas, el otro notebook debe de estar en funcionamiento.\n",
    "\n",
    "Otro comentario es sobre el procesamiento de nuevos datos entrantes. Para mantener un rendimiento, no es posible entrenar el modelo con los datos que entran, por eso, la idea de la solución de este problema es que se gaste un tiempo acotado en un entrenamiento del modelo que sea representativo de los datos y mientras no surgan una cantidad grande datos nuevos, este solamente haga una predicción de los nuevos datos entrantes para optimizar los tiempos de respuesta."
   ]
  },
  {
   "cell_type": "code",
   "execution_count": 23,
   "metadata": {},
   "outputs": [],
   "source": [
    "#########################################################################################################\n",
    "#\n",
    "# Función utilizada para procesar la nueva ingesta de datos provenientes desde los archivos *csv_name*\n",
    "# para luego predecir que a que cluster debería de pertenecer.\n",
    "#\n",
    "#########################################################################################################\n",
    "def upload_data(csv_name):\n",
    "    #lectura y limpieza del nuevo documento de datos\n",
    "    df = pd.read_csv(csv_name)\n",
    "    cleaned_df = clean_df(df)\n",
    "\n",
    "    # procesamiento de los datos para normalizarlos\n",
    "    min_max_scaler = MinMaxScaler()\n",
    "    normalized_df_minmax = min_max_scaler.fit_transform(cleaned_df)\n",
    "    normalized_df = pd.DataFrame(normalized_df_minmax, columns=cleaned_df.columns)\n",
    "\n",
    "    # prediccion de los datos entrantes con respecto a que cluster deberían de pertenecer\n",
    "    optics_result = meanshift_model.predict(normalized_df)\n",
    "\n",
    "    # definición del nuevo segmento de datos a ingresar a la base de datos\n",
    "    df['cluster'] = meanshift_result\n",
    "    insert_records_from_df(df)\n",
    "\n",
    "    # comunicación con el otro notebook para mostrar la ingesta de datos\n",
    "    data_request = loads(df.to_json(orient='records'))[::-1]    \n",
    "    requests.post('http://localhost:5400/', json = data_request)\n",
    "    \n",
    "    return None"
   ]
  },
  {
   "cell_type": "code",
   "execution_count": 24,
   "metadata": {},
   "outputs": [],
   "source": [
    "# activar una nueva ingesta de datos con un archivo csv\n",
    "upload_data('trips.csv')"
   ]
  },
  {
   "cell_type": "markdown",
   "metadata": {},
   "source": [
    "## 3° Requisito\n",
    "\n",
    "Con respecto al 3 item, este se basa en que la solución sea escalable. Con respecto al diseño de la solución, los dos grandes algoritmos que podrían tardar más tiempo en procesar son la clusterización y la búsqueda de viajes dentro de una bounding box.\n",
    "\n",
    "Con respecto a la clusterización, el algoritmo de Mean Shift frente a casos de baja dimensionalidad, presenta una cota de $O(T*n*log n)$, en donde *T* es el número de features y *n* el número de muestras para el entrenamiento, lo cual esto presenta una cota aceptable en terminos de escalabilidad, siendo baja pese a que se sacrifica un costo computacional al principio para que las predicciones futuras no sean de gran peso computacional. Además en el peor de los casos, la cota que puede cumplir el algoritmo es de $O(n^2)$, siendo aún así una cota aceptable para este enfoque mencionado.\n",
    "\n",
    "Con respecto a la búsqueda de viajes dentro de una bounding box, la cota que presenta el algoritmo propuesto es $O(n)$, lo cual es aceptable para que las consultas que se puedan realizar para esta funcionalidad, no impacten en el rendimiento general de la solución.\n",
    "\n",
    "Por lo tanto, frente a este análisis, se podría declarar que es escalable la solución"
   ]
  },
  {
   "cell_type": "markdown",
   "metadata": {},
   "source": [
    "## Extras\n",
    "\n",
    "Con respecto a la solución, tiene mejoras en cuanto al modelo a emplear, otros modelos podrían rendir mejor en cuanto a precisión como el algoritmo VBGMM, o utilizar algoritmos más clásicos como DBSCAN, en el cual se podrían realizar pequeñas alteraciones para que este pudiese predecir datos futuros y así mantenga la escalabilidad del sistema. Además que hay campo de mejora en cuanto a la definición de los intervales en que se volverá a entrenar el modelo para que no sea un modelo sesgado y no provoque ningún bias."
   ]
  }
 ],
 "metadata": {
  "colab": {
   "authorship_tag": "ABX9TyNRlZwJj7VIahkhh9xx98KV",
   "provenance": []
  },
  "kernelspec": {
   "display_name": "Python 3 (ipykernel)",
   "language": "python",
   "name": "python3"
  },
  "language_info": {
   "codemirror_mode": {
    "name": "ipython",
    "version": 3
   },
   "file_extension": ".py",
   "mimetype": "text/x-python",
   "name": "python",
   "nbconvert_exporter": "python",
   "pygments_lexer": "ipython3",
   "version": "3.11.4"
  }
 },
 "nbformat": 4,
 "nbformat_minor": 4
}
